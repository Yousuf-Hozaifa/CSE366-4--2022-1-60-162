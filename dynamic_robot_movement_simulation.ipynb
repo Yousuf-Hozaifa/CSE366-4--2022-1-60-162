{
  "cells": [
    {
      "cell_type": "markdown",
      "metadata": {
        "id": "0SAglRrjLk4r"
      },
      "source": [
        "## 1. Import necessary modules"
      ]
    },
    {
      "cell_type": "code",
      "execution_count": null,
      "metadata": {
        "id": "cGOmFw3CLk4v"
      },
      "outputs": [],
      "source": [
        "import numpy as np\n",
        "import matplotlib.pyplot as plt\n",
        "import heapq"
      ]
    },
    {
      "cell_type": "markdown",
      "metadata": {
        "id": "bGMD5ssbLk4y"
      },
      "source": [
        "## 2. Data structures creation"
      ]
    },
    {
      "cell_type": "code",
      "execution_count": null,
      "metadata": {
        "id": "zDk6T5lPLk4y"
      },
      "outputs": [],
      "source": [
        "class PriorityQueue:\n",
        "    def __init__(self):\n",
        "        self.elements = []\n",
        "\n",
        "    def empty(self):\n",
        "        return len(self.elements) == 0\n",
        "\n",
        "    def put(self, item, priority):\n",
        "        heapq.heappush(self.elements, (priority, item))\n",
        "\n",
        "    def get(self):\n",
        "        return heapq.heappop(self.elements)[1]\n",
        "\n",
        "\n",
        "# Node Class represents a state in the search tree.\n",
        "class Node:\n",
        "    def __init__(self, state, parent=None, action=None, path_cost=0, battery_level=100):\n",
        "        self.state = state  # The current position of the agent in the grid.\n",
        "        self.parent = parent  # The node in the search tree that generated this node.\n",
        "        self.action = action  # The action taken to get to this state.\n",
        "        self.path_cost = path_cost  # Cost from the start node to this node.\n",
        "\n",
        "    # Comparison operator for priority queue.\n",
        "    def __lt__(self, other):\n",
        "        return self.path_cost < other.path_cost"
      ]
    },
    {
      "cell_type": "markdown",
      "metadata": {
        "id": "I8ar-bV6Lk4z"
      },
      "source": [
        "## 3. Helper functions"
      ]
    },
    {
      "cell_type": "code",
      "execution_count": null,
      "metadata": {
        "id": "VB7tvld6Lk4z"
      },
      "outputs": [],
      "source": [
        "def heuristic(a, b):\n",
        "    \"\"\"\n",
        "    Calculate the Manhattan distance between two points a and b.\n",
        "\n",
        "    Parameters:\n",
        "    - a: Tuple representing the x and y coordinates of point a (e.g., (x1, y1))\n",
        "    - b: Tuple representing the x and y coordinates of point b (e.g., (x2, y2))\n",
        "\n",
        "    Returns:\n",
        "    - The Manhattan distance between points a and b.\n",
        "    \"\"\"\n",
        "    (x1, y1) = a\n",
        "    (x2, y2) = b\n",
        "\n",
        "    return abs(x1 - x2) + abs(y1 - y2)"
      ]
    },
    {
      "cell_type": "markdown",
      "metadata": {
        "id": "W4s3CBZMLk40"
      },
      "source": [
        "#### I. Generate a random grid function"
      ]
    },
    {
      "cell_type": "code",
      "execution_count": null,
      "metadata": {
        "id": "Gno6lPW5Lk40"
      },
      "outputs": [],
      "source": [
        "def generate_random_grid(size, obstacle_probability):\n",
        "    return np.random.choice([0, 1], size=(size, size), p=[1-obstacle_probability, obstacle_probability])"
      ]
    },
    {
      "cell_type": "code",
      "execution_count": null,
      "metadata": {
        "id": "5IiwQ0PpLk41"
      },
      "outputs": [],
      "source": [
        "def generate_environment():\n",
        "    # define the size of the grid and the probability of an obstacle in each cell\n",
        "    grid_size = 10\n",
        "    obstacle_probability = 0.2  # 20% chance of being an obstacle\n",
        "\n",
        "    # generate a random grid\n",
        "    grid = generate_random_grid(grid_size, obstacle_probability)\n",
        "\n",
        "    # define start and goal positions\n",
        "    start = (0, 0)\n",
        "    goal = (grid_size - 1, grid_size - 1)\n",
        "\n",
        "    # ensure start and goal are not obstacles\n",
        "    grid[start] = 0\n",
        "    grid[goal] = 0\n",
        "\n",
        "    # create and return the environment\n",
        "    return Environment(grid, start, goal), grid\n"
      ]
    },
    {
      "cell_type": "markdown",
      "metadata": {
        "id": "_NVAs6zKLk41"
      },
      "source": [
        "#### II. Visualize the grid and battery using matplotlib"
      ]
    },
    {
      "cell_type": "code",
      "execution_count": null,
      "metadata": {
        "id": "PeQUXW_pLk42"
      },
      "outputs": [],
      "source": [
        "def visualize_grid_and_path(grid, path, time, battery_levels):\n",
        "    grid_array = np.array(grid)  # convert grid to numpy array for plotting.\n",
        "\n",
        "    # create separate figures for grid/path and battery level\n",
        "    fig_grid, ax_grid = plt.subplots()  # for grid and path\n",
        "    fig_battery, ax_battery = plt.subplots()  # for battery level\n",
        "    fig_battery.set_figheight(4)\n",
        "    fig_battery.set_figwidth(6)\n",
        "\n",
        "    # plot grid and path\n",
        "    ax_grid.imshow(grid_array, cmap='Greys', alpha=0.3)  # grid background.\n",
        "    start = path[0]\n",
        "    goal = path[-1]\n",
        "    ax_grid.plot(start[1], start[0], 'bs', markersize=10)  # start position in blue.\n",
        "    ax_grid.plot(goal[1], goal[0], 'gs', markersize=10)  # goal position in green.\n",
        "    xs, ys = zip(*path)  # extract X and Y coordinates of the path.\n",
        "    ax_grid.plot(ys, xs, 'r-', linewidth=2)  # plot the path in red.\n",
        "    ax_grid.set_title(\"Grid and Path\")\n",
        "\n",
        "    ax_grid.set_xticks(np.arange(-.5, len(grid[0]), 1), minor=True)\n",
        "    ax_grid.set_yticks(np.arange(-.5, len(grid), 1), minor=True)\n",
        "    ax_grid.grid(which=\"minor\", color=\"b\", linestyle='-', linewidth=1)\n",
        "    ax_grid.tick_params(which=\"minor\", size=0)\n",
        "    ax_grid.tick_params(which=\"major\", bottom=False, left=False, labelbottom=False, labelleft=False)\n",
        "\n",
        "    # plot battery level\n",
        "    ax_battery.plot(range(time + 1), battery_levels)  # line plot for battery levels\n",
        "    ax_battery.set_xlabel(\"Time\")\n",
        "    ax_battery.set_ylabel(\"Battery Level (%)\")\n",
        "    ax_battery.set_title(\"Battery Level Over Time\")\n",
        "\n",
        "    # adjust layout and show plots\n",
        "    plt.tight_layout()\n",
        "    plt.show()"
      ]
    },
    {
      "cell_type": "markdown",
      "metadata": {
        "id": "3kLyeSMcLk42"
      },
      "source": [
        "## 4. Definiton of Environment and Agent classes"
      ]
    },
    {
      "cell_type": "markdown",
      "metadata": {
        "id": "BNnJhHkwLk43"
      },
      "source": [
        "#### I. Environment Class represents the grid and handles state transitions"
      ]
    },
    {
      "cell_type": "code",
      "execution_count": null,
      "metadata": {
        "id": "1btdHpTvLk43"
      },
      "outputs": [],
      "source": [
        "class Environment:\n",
        "    def __init__(self, grid, start, goal):\n",
        "        self.grid = grid  # The grid layout where 1 represents an obstacle and 0 is free space.\n",
        "        self.initial = start  # Starting position of the agent.\n",
        "        self.goal = goal  # Goal position the agent aims to reach.\n",
        "        self.time = 0\n",
        "\n",
        "    # Returns the possible actions from a given state.\n",
        "    def possible_actions(self, state):\n",
        "        possible_actions = [\"UP\", \"DOWN\", \"LEFT\", \"RIGHT\"]\n",
        "        x, y = state\n",
        "\n",
        "        # Remove impossible actions based on grid boundaries and obstacles.\n",
        "        if x == 0 or self.grid[x - 1][y] == 1:\n",
        "            possible_actions.remove(\"UP\")\n",
        "        if x == len(self.grid) - 1 or self.grid[x + 1][y] == 1:\n",
        "            possible_actions.remove(\"DOWN\")\n",
        "        if y == 0 or self.grid[x][y - 1] == 1:\n",
        "            possible_actions.remove(\"LEFT\")\n",
        "        if y == len(self.grid[0]) - 1 or self.grid[x][y + 1] == 1:\n",
        "            possible_actions.remove(\"RIGHT\")\n",
        "\n",
        "        return possible_actions\n",
        "\n",
        "    # Returns the state resulting from taking a given action at a given state.\n",
        "    def state_after_move(self, current_state, action, mode=\"move\"):\n",
        "        x, y = current_state\n",
        "\n",
        "        if mode == \"move\":\n",
        "            self.time += 1\n",
        "\n",
        "        if action == 'UP':\n",
        "            return (x - 1, y)\n",
        "        if action == 'DOWN':\n",
        "            return (x + 1, y)\n",
        "        if action == 'LEFT':\n",
        "            return (x, y - 1)\n",
        "        if action == 'RIGHT':\n",
        "            return (x, y + 1)\n",
        "\n",
        "    # Checks if the goal has been reached.\n",
        "    def is_goal(self, state):\n",
        "        return state == self.goal\n",
        "\n",
        "    # recharge agent battery\n",
        "    def recharge_battery(self, battery_level):\n",
        "        \"\"\"\n",
        "        Simulates the charging behavior of the agent's battery over time.\n",
        "\n",
        "        Parameters:\n",
        "        - battery_level (int): The current level of the agent's battery.\n",
        "\n",
        "        Returns:\n",
        "        - Tuple: A tuple containing the updated battery level, a list of battery levels over time,\n",
        "                and the total time taken for charging.\n",
        "        \"\"\"\n",
        "\n",
        "        time_took = 0\n",
        "        levels = []\n",
        "\n",
        "        # simulate charging behaviour over time\n",
        "        for i in range(10):\n",
        "            battery_level += 10\n",
        "            levels.append(battery_level)\n",
        "            time_took += 1\n",
        "\n",
        "        self.time += time_took\n",
        "\n",
        "        return (battery_level, levels, time_took)\n"
      ]
    },
    {
      "cell_type": "markdown",
      "metadata": {
        "id": "UBT-3jCILk44"
      },
      "source": [
        "#### II. Agent class to traverse inside a world using finding optimum paths"
      ]
    },
    {
      "cell_type": "code",
      "execution_count": null,
      "metadata": {
        "id": "I0SWz46LLk44"
      },
      "outputs": [],
      "source": [
        "class Agent:\n",
        "    def __init__(self, env):\n",
        "        \"\"\"\n",
        "        Initializes the Agent object.\n",
        "\n",
        "        Parameters:\n",
        "        - env: The environment object representing the grid world.\n",
        "\n",
        "        Attributes:\n",
        "        - env: The environment object representing the grid world.\n",
        "        - state: Tuple representing the current position of the agent in the grid (x, y).\n",
        "        - steps_to_goal: List of positions the agent needs to take to reach the goal (generated by search algorithm).\n",
        "        - paths_taken: List of positions the agent goes through when moving.\n",
        "        - recharge_count: Counter to track the number of times the agent recharges its battery.\n",
        "        - battery_level: Initial battery level set to 100%.\n",
        "        - battery_levels: List to keep track of battery levels over time.\n",
        "        \"\"\"\n",
        "        self.env = env\n",
        "\n",
        "        self.state = self.env.initial\n",
        "        self.steps_to_goal = []\n",
        "        self.paths_taken = [self.state]\n",
        "\n",
        "        self.recharge_count = 0\n",
        "        self.battery_level = 100\n",
        "        self.battery_levels = [self.battery_level]\n",
        "\n",
        "\n",
        "    # searching algorithms to find the lowest cost path from the initial state to the goal\n",
        "    # ------------------------------------------------------------------------------------\n",
        "    def uniform_cost_search(self):\n",
        "        frontier = PriorityQueue()  # priority queue for UCS\n",
        "\n",
        "        start_node = Node(self.env.initial, path_cost=0)\n",
        "        frontier.put(start_node, 0)\n",
        "\n",
        "        came_from = {}\n",
        "        cost_so_far = {self.env.initial: 0}\n",
        "\n",
        "        while not frontier.empty():\n",
        "            current_node = frontier.get()\n",
        "\n",
        "            if self.env.is_goal(current_node.state):\n",
        "                return self.reconstruct_path(came_from, current_node.state)\n",
        "\n",
        "            for action in self.env.possible_actions(current_node.state):\n",
        "                new_state = self.env.state_after_move(current_node.state, action, mode=\"search\")\n",
        "                new_cost = cost_so_far[current_node.state] + 1  # assuming uniform cost for simplicity\n",
        "\n",
        "                if new_state not in cost_so_far or new_cost < cost_so_far[new_state]:\n",
        "                    cost_so_far[new_state] = new_cost\n",
        "                    priority = new_cost\n",
        "                    new_node = Node(state=new_state, parent=current_node, action=action, path_cost=new_cost)\n",
        "\n",
        "                    frontier.put(new_node, priority)\n",
        "                    came_from[new_state] = current_node.state\n",
        "\n",
        "        return []\n",
        "\n",
        "\n",
        "    def a_star_search(self):\n",
        "        frontier = PriorityQueue()\n",
        "\n",
        "        # the start node is created with a path cost of 0.\n",
        "        start_node = Node(self.env.initial, path_cost=0)\n",
        "        frontier.put(start_node, 0)  # priority is f-cost, initially the heuristic cost from start to goal\n",
        "\n",
        "        came_from = {}  # tracks the best path to a node\n",
        "        cost_so_far = {self.env.initial: 0}  # tracks the g-cost (cost so far to reach a node)\n",
        "\n",
        "        while not frontier.empty():\n",
        "            current_node = frontier.get()\n",
        "\n",
        "            if self.env.is_goal(current_node.state):\n",
        "                return self.reconstruct_path(came_from, current_node.state)\n",
        "\n",
        "            for action in self.env.possible_actions(current_node.state):\n",
        "                new_state = self.env.state_after_move(current_node.state, action, mode=\"search\")\n",
        "                new_cost = cost_so_far[current_node.state] + 1  # assuming uniform cost for simplicity\n",
        "\n",
        "                if new_state not in cost_so_far or new_cost < cost_so_far[new_state]:\n",
        "                    cost_so_far[new_state] = new_cost\n",
        "                    priority = new_cost + heuristic(new_state, self.env.goal)  # f(p) = cost(p) + h(n)\n",
        "                    new_node = Node(state=new_state, parent=current_node, action=action, path_cost=new_cost)\n",
        "\n",
        "                    frontier.put(new_node, priority)\n",
        "                    came_from[new_state] = current_node.state\n",
        "\n",
        "        return []\n",
        "    #\n",
        "    # ------------------------------------------------------------------------------------\n",
        "\n",
        "\n",
        "    def reconstruct_path(self, came_from_dict, current_state):\n",
        "        \"\"\"\n",
        "        Reconstructs the path from the initial state to the current state.\n",
        "\n",
        "        Parameters:\n",
        "        - came_from_dict: Dictionary containing the mapping of states to their previous states.\n",
        "        - current_state: The current state for which the path needs to be reconstructed.\n",
        "\n",
        "        Returns:\n",
        "        - A list representing the path from the initial state to the current state.\n",
        "        \"\"\"\n",
        "        path = []\n",
        "\n",
        "        # Reconstruct the path by backtracking from the current state to the initial state\n",
        "        while current_state in came_from_dict:\n",
        "            path.append(current_state)\n",
        "            current_state = came_from_dict[current_state]\n",
        "\n",
        "        # Add the initial state to the path\n",
        "        path.append(self.env.initial)\n",
        "        path.reverse()\n",
        "\n",
        "        # Calculate steps taken to reach the goal\n",
        "        previous_state = self.env.initial\n",
        "        for state in path:\n",
        "            if state != self.env.initial:\n",
        "                x_prev, y_prev = previous_state\n",
        "                x_curr, y_curr = state\n",
        "\n",
        "                dx = x_curr - x_prev\n",
        "                dy = y_curr - y_prev\n",
        "\n",
        "                self.steps_to_goal.append((dx, dy))\n",
        "                previous_state = state\n",
        "\n",
        "        return path\n",
        "\n",
        "\n",
        "\n",
        "    def check_battery_and_recharge(self):\n",
        "        \"\"\"\n",
        "        Check the agent's battery level and recharge if necessary.\n",
        "\n",
        "        If the agent's battery level is critically low (<= 0), recharge it using the environment's recharge method.\n",
        "        Increment the recharge counter and update the list of battery levels accordingly.\n",
        "\n",
        "        Parameters:\n",
        "            self (object): The Agent object.\n",
        "\n",
        "        Returns:\n",
        "            tuple: A tuple indicating whether the battery was recharged and the time taken for recharging.\n",
        "               - If the battery was recharged, returns (True, time_took).\n",
        "               - If the battery level is sufficient, returns (False, 0).\n",
        "        \"\"\"\n",
        "\n",
        "        if self.battery_level <= 0:\n",
        "            self.battery_level, battery_levels, time_took = self.env.recharge_battery(battery_level=self.battery_level)\n",
        "\n",
        "            self.recharge_count += 1\n",
        "            self.battery_levels += battery_levels\n",
        "\n",
        "            return (True, time_took)\n",
        "        else:\n",
        "            return (False, 0)\n",
        "\n",
        "\n",
        "\n",
        "    def boot(self):\n",
        "        # move according to the steps generated by searching algorithm\n",
        "        for step in self.steps_to_goal:\n",
        "            # how much distance to move\n",
        "            dx, dy = step\n",
        "\n",
        "            # simulate waiting behavior of agent for charging\n",
        "            need_recharge, time_took = self.check_battery_and_recharge()\n",
        "\n",
        "            if need_recharge is True:\n",
        "                # the agent is waiting\n",
        "                for i in range(time_took):\n",
        "                    self.paths_taken.append(self.state)\n",
        "\n",
        "            # agent movement in the grid\n",
        "            if dx != 0 or dy != 0:\n",
        "                if dx > 0:\n",
        "                    next_state = self.env.state_after_move(current_state=self.state, action=\"DOWN\")\n",
        "                if dx < 0:\n",
        "                    next_state = self.env.state_after_move(current_state=self.state, action=\"UP\")\n",
        "                if dy > 0:\n",
        "                    next_state = self.env.state_after_move(current_state=self.state, action=\"RIGHT\")\n",
        "                if dy < 0:\n",
        "                    next_state = self.env.state_after_move(current_state=self.state, action=\"LEFT\")\n",
        "\n",
        "                self.state = next_state\n",
        "                self.paths_taken.append(next_state)\n",
        "\n",
        "                # decrease battery life by 10%\n",
        "                self.battery_level -= 10\n",
        "                self.battery_levels.append(self.battery_level)\n",
        "\n",
        "\n",
        "    def shutdown(self):\n",
        "        # reset all values to default\n",
        "        self.env.time = 0\n",
        "\n",
        "        self.state = self.env.initial\n",
        "        self.steps_to_goal = []\n",
        "        self.paths_taken = [self.state]\n",
        "\n",
        "        self.recharge_count = 0\n",
        "        self.battery_level = 100\n",
        "        self.battery_levels = [self.battery_level]"
      ]
    },
    {
      "cell_type": "markdown",
      "metadata": {
        "id": "eox2Lpj6Lk46"
      },
      "source": [
        "## 5. Simulation of the Agent and Environment"
      ]
    },
    {
      "cell_type": "code",
      "execution_count": null,
      "metadata": {
        "id": "OFH8qtO6Lk47"
      },
      "outputs": [],
      "source": [
        "def start_simulation(environment: object, grid, algorithm: str = \"a_star_search\"):\n",
        "    agent = Agent(environment)\n",
        "    agent.shutdown()\n",
        "\n",
        "    # find the optimum path the agent needs to go in order to reach the goal\n",
        "    if algorithm == \"a_star_search\":\n",
        "        solution_path = agent.a_star_search()\n",
        "    else:\n",
        "        solution_path = agent.uniform_cost_search()\n",
        "\n",
        "    # if there exists a path to the goal\n",
        "    if solution_path:\n",
        "        # start the agent\n",
        "        agent.boot()\n",
        "\n",
        "        paths_taken = agent.paths_taken\n",
        "        battery_levels = agent.battery_levels\n",
        "        time_passed = agent.env.time\n",
        "\n",
        "        print(paths_taken)\n",
        "        print(battery_levels)\n",
        "        print(time_passed)\n",
        "\n",
        "        # Visualize the solution\n",
        "        visualize_grid_and_path(grid, paths_taken, time_passed, battery_levels)\n",
        "\n",
        "        return True\n",
        "    else:\n",
        "        return False"
      ]
    },
    {
      "cell_type": "markdown",
      "metadata": {
        "id": "_lCMa8KdLk47"
      },
      "source": [
        "#### I. Simulation of Uniform-Cost-Search (UCS) pathfinding algorithm"
      ]
    },
    {
      "cell_type": "code",
      "execution_count": null,
      "metadata": {
        "colab": {
          "base_uri": "https://localhost:8080/",
          "height": 890
        },
        "id": "ykGTSLAGLk48",
        "outputId": "d3729173-8de0-4025-91a9-f2469922d96d"
      },
      "outputs": [
        {
          "output_type": "stream",
          "name": "stdout",
          "text": [
            "[(0, 0), (0, 1), (1, 1), (1, 2), (1, 3), (1, 4), (1, 5), (1, 6), (1, 7), (2, 7), (3, 7), (3, 7), (3, 7), (3, 7), (3, 7), (3, 7), (3, 7), (3, 7), (3, 7), (3, 7), (3, 7), (3, 8), (4, 8), (5, 8), (6, 8), (7, 8), (7, 9), (8, 9), (9, 9)]\n",
            "[100, 90, 80, 70, 60, 50, 40, 30, 20, 10, 0, 10, 20, 30, 40, 50, 60, 70, 80, 90, 100, 90, 80, 70, 60, 50, 40, 30, 20]\n",
            "28\n"
          ]
        },
        {
          "output_type": "display_data",
          "data": {
            "text/plain": [
              "<Figure size 640x480 with 1 Axes>"
            ],
            "image/png": "[encoded data removed]"
          },
          "metadata": {}
        },
        {
          "output_type": "display_data",
          "data": {
            "text/plain": [
              "<Figure size 600x400 with 1 Axes>"
            ],
            "image/png": "[encoded data removed]"
          },
          "metadata": {}
        }
      ],
      "source": [
        "environment, grid = generate_environment()\n",
        "\n",
        "if not start_simulation(environment=environment, grid=grid, algorithm=\"uniform_cost_search\"):\n",
        "    print(\"No path to the goal is found in the current environment!\")\n",
        "    print(\"Simulation failed!\")"
      ]
    },
    {
      "cell_type": "markdown",
      "metadata": {
        "id": "Y1V8McfZLk49"
      },
      "source": [
        "#### II. Simulation of A* (A Star) pathfinding algorithm"
      ]
    },
    {
      "cell_type": "code",
      "execution_count": null,
      "metadata": {
        "colab": {
          "base_uri": "https://localhost:8080/",
          "height": 890
        },
        "id": "dR6pSEHhLk49",
        "outputId": "b9c752e4-90a7-407f-bd55-62090d362787"
      },
      "outputs": [
        {
          "output_type": "stream",
          "name": "stdout",
          "text": [
            "[(0, 0), (0, 1), (1, 1), (1, 2), (2, 2), (2, 3), (3, 3), (4, 3), (4, 4), (5, 4), (6, 4), (6, 4), (6, 4), (6, 4), (6, 4), (6, 4), (6, 4), (6, 4), (6, 4), (6, 4), (6, 4), (6, 5), (6, 6), (7, 6), (7, 7), (7, 8), (7, 9), (8, 9), (9, 9)]\n",
            "[100, 90, 80, 70, 60, 50, 40, 30, 20, 10, 0, 10, 20, 30, 40, 50, 60, 70, 80, 90, 100, 90, 80, 70, 60, 50, 40, 30, 20]\n",
            "28\n"
          ]
        },
        {
          "output_type": "display_data",
          "data": {
            "text/plain": [
              "<Figure size 640x480 with 1 Axes>"
            ],
            "image/png": "[encoded data removed]"
          },
          "metadata": {}
        },
        {
          "output_type": "display_data",
          "data": {
            "text/plain": [
              "<Figure size 600x400 with 1 Axes>"
            ],
            "image/png": "[encoded data removed]"
          },
          "metadata": {}
        }
      ],
      "source": [
        "if not start_simulation(environment=environment, grid=grid, algorithm=\"a_star_search\"):\n",
        "    print(\"No path to the goal is found in the current environment!\")\n",
        "    print(\"Simulation failed!\")"
      ]
    },
    {
      "cell_type": "code",
      "source": [],
      "metadata": {
        "id": "nd1R1mScYioG"
      },
      "execution_count": null,
      "outputs": []
    }
  ],
  "metadata": {
    "kernelspec": {
      "display_name": "machine_learning",
      "language": "python",
      "name": "machine_learning"
    },
    "language_info": {
      "codemirror_mode": {
        "name": "ipython",
        "version": 3
      },
      "file_extension": ".py",
      "mimetype": "text/x-python",
      "name": "python",
      "nbconvert_exporter": "python",
      "pygments_lexer": "ipython3",
      "version": "3.10.12"
    },
    "colab": {
      "provenance": []
    }
  },
  "nbformat": 4,
  "nbformat_minor": 0
}